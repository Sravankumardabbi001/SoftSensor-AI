{
 "cells": [
  {
   "cell_type": "markdown",
   "id": "f1af13d0",
   "metadata": {},
   "source": [
    "# Intern_Task"
   ]
  },
  {
   "cell_type": "markdown",
   "id": "dd166ffd",
   "metadata": {},
   "source": [
    "Here, there is a zip file attached with this file containing 50 chest X- rays’ images. These X–rays may contain catheters and lines. These are following tasks that one may need to complete with python."
   ]
  },
  {
   "cell_type": "markdown",
   "id": "315b1503",
   "metadata": {},
   "source": [
    "# 1)Select 10 random images"
   ]
  },
  {
   "cell_type": "code",
   "execution_count": 1,
   "id": "4f966f1e",
   "metadata": {},
   "outputs": [
    {
     "name": "stdout",
     "output_type": "stream",
     "text": [
      "['1.2.826.0.1.3680043.8.498.10014189861344447674817105872580579999.jpg', '1.2.826.0.1.3680043.8.498.10015404029859662112652117198439554552.jpg', '1.2.826.0.1.3680043.8.498.10018204814154657908167246779037766354.jpg', '1.2.826.0.1.3680043.8.498.10016038448650125162506685814898382210.jpg', '1.2.826.0.1.3680043.8.498.10012289245645788930532993508716817528.jpg', '1.2.826.0.1.3680043.8.498.10009230449649555463787687058581068839.jpg', '1.2.826.0.1.3680043.8.498.10012868114746340015145674058758665450.jpg', '1.2.826.0.1.3680043.8.498.10001645884963994872672157437761279872.jpg', '1.2.826.0.1.3680043.8.498.10010621324226224265011850078370952894.jpg', '1.2.826.0.1.3680043.8.498.10019435451845439822798422543882918364.jpg']\n"
     ]
    }
   ],
   "source": [
    "import os\n",
    "import random\n",
    "# specify the directory path containing the images\n",
    "dir_path = \"C:\\\\Users\\\\DABBI SRAVAN KUMAR\\\\X- ray image\"\n",
    "\n",
    "# get a list of all image files in the directory\n",
    "image_files = [f for f in os.listdir(dir_path) if f.endswith(\".jpg\") or f.endswith(\".png\")]\n",
    "\n",
    "# select 10 random image files\n",
    "random_images = random.sample(image_files, k=10)\n",
    "\n",
    "# print the list of selected image files\n",
    "print(random_images)"
   ]
  },
  {
   "cell_type": "markdown",
   "id": "95059a4b",
   "metadata": {},
   "source": [
    "# 2)Apply five to ten (minimum 5 ) image processing techniques or filters(masks) on these images. "
   ]
  },
  {
   "cell_type": "code",
   "execution_count": null,
   "id": "d0f985ff",
   "metadata": {},
   "outputs": [],
   "source": [
    "import cv2\n",
    "import numpy as np\n",
    "\n",
    "# Read image\n",
    "img = cv2.imread('C:\\\\Users\\\\DABBI SRAVAN KUMAR\\\\X- ray image\\\\1.2.826.0.1.3680043.8.498.10001175380298620851477409998730672515.jpg')\n",
    "\n",
    "# Convert image to grayscale\n",
    "gray = cv2.cvtColor(img, cv2.COLOR_BGR2GRAY)\n",
    "\n",
    "# Apply Gaussian Blur filter\n",
    "blur = cv2.GaussianBlur(gray, (5, 5), 0)\n",
    "\n",
    "# Apply Canny edge detection\n",
    "edges = cv2.Canny(blur, 100, 200)\n",
    "\n",
    "# Dilate the edges to make them thicker\n",
    "kernel = np.ones((3, 3), np.uint8)\n",
    "dilation = cv2.dilate(edges, kernel, iterations=1)\n",
    "\n",
    "# Apply thresholding to convert image to binary\n",
    "ret, thresh = cv2.threshold(dilation, 127, 255, cv2.THRESH_BINARY)\n",
    "\n",
    "# Display the original image and the processed image\n",
    "cv2.imshow('Original Image', img)\n",
    "cv2.imshow('Processed Image', thresh)\n",
    "cv2.waitKey(0)\n",
    "cv2.destroyAllWindows()\n"
   ]
  },
  {
   "cell_type": "markdown",
   "id": "ca3fa387",
   "metadata": {},
   "source": [
    "The above code can be given separate photo of fliters according to the program."
   ]
  },
  {
   "cell_type": "markdown",
   "id": "4bdb8adf",
   "metadata": {},
   "source": [
    "# 3)State the response of each filter on these images."
   ]
  },
  {
   "cell_type": "markdown",
   "id": "9fe63bd2",
   "metadata": {},
   "source": [
    "There are several types of filters used in image processing, and each of them serves a specific purpose. Here are some examples of commonly used filters and their response on x-ray images:"
   ]
  },
  {
   "cell_type": "markdown",
   "id": "cf046a88",
   "metadata": {},
   "source": [
    "1.\tGaussian filter: The Gaussian filter is a low-pass filter that is used to blur an image and reduce noise. It works by convolving the image with a Gaussian kernel that emphasizes the lower frequencies in the image. The response of the Gaussian filter on x-ray images is to smooth out the image and reduce the appearance of noise."
   ]
  },
  {
   "cell_type": "code",
   "execution_count": null,
   "id": "bf6621c2",
   "metadata": {},
   "outputs": [],
   "source": [
    "#Example\n",
    "import cv2\n",
    "import numpy as np\n",
    "\n",
    "# Load x-ray image here\n",
    "img = cv2.imread('C:\\\\Users\\\\DABBI SRAVAN KUMAR\\\\X- ray image\\\\1.2.826.0.1.3680043.8.498.10001175380298620851477409998730672515.jpg', 0)\n",
    "\n",
    "# Apply Gaussian filter here\n",
    "img_gaussian = cv2.GaussianBlur(img, (5,5), 0)\n",
    "\n",
    "# it Show filtered image here\n",
    "cv2.imshow('Gaussian Filter', img_gaussian)\n",
    "cv2.waitKey(0)\n",
    "cv2.destroyAllWindows()"
   ]
  },
  {
   "cell_type": "markdown",
   "id": "e187d5a2",
   "metadata": {},
   "source": [
    "2.  Median filter: The median filter is a non-linear filter that is used to remove salt-and-pepper noise from an image. It works by replacing each pixel in the image with the median value of its neighboring pixels. The response of the median filter on x-ray images is to reduce the appearance of salt-and-pepper noise."
   ]
  },
  {
   "cell_type": "code",
   "execution_count": null,
   "id": "a45f7603",
   "metadata": {},
   "outputs": [],
   "source": [
    "#Example\n",
    "import cv2\n",
    "import numpy as np\n",
    "\n",
    "# Load x-ray image\n",
    "img = cv2.imread('C:\\\\Users\\\\DABBI SRAVAN KUMAR\\\\X- ray image\\\\1.2.826.0.1.3680043.8.498.10001175380298620851477409998730672515.jpg', 0)\n",
    "\n",
    "# Apply median filter\n",
    "img_median = cv2.medianBlur(img, 5)\n",
    "\n",
    "# Show filtered image\n",
    "cv2.imshow('Median Filter', img_median)\n",
    "cv2.waitKey(0)\n",
    "cv2.destroyAllWindows()\n"
   ]
  },
  {
   "cell_type": "markdown",
   "id": "de5deef5",
   "metadata": {},
   "source": [
    "3. \tSobel filter: The Sobel filter is an edge detection filter that is used to detect edges in an image. It works by convolving the image with two kernels that highlight horizontal and vertical edges. The response of the Sobel filter on x-ray images is to highlight the edges in the image."
   ]
  },
  {
   "cell_type": "code",
   "execution_count": null,
   "id": "189d8922",
   "metadata": {},
   "outputs": [],
   "source": [
    "#Example\n",
    "import cv2\n",
    "import numpy as np\n",
    "\n",
    "# Load x-ray image here\n",
    "img = cv2.imread('C:\\\\Users\\\\DABBI SRAVAN KUMAR\\\\X- ray image\\\\1.2.826.0.1.3680043.8.498.10001175380298620851477409998730672515.jpg', 0)\n",
    "\n",
    "# Apply Sobel filter here\n",
    "sobelx = cv2.Sobel(img, cv2.CV_64F, 1, 0, ksize=5)\n",
    "sobely = cv2.Sobel(img, cv2.CV_64F, 0, 1, ksize=5)\n",
    "img_sobel = cv2.addWeighted(sobelx, 0.5, sobely, 0.5, 0)\n",
    "\n",
    "# Showing filtered image\n",
    "cv2.imshow('Sobel Filter', img_sobel)\n",
    "cv2.waitKey(0)\n",
    "cv2.destroyAllWindows()\n"
   ]
  },
  {
   "cell_type": "markdown",
   "id": "329116ce",
   "metadata": {},
   "source": [
    "4.\t Laplacian filter: The Laplacian filter is an edge detection filter that is used to detect edges in an image. It works by convolving the image with a kernel that highlights the second derivative of the image. The response of the Laplacian filter on x-ray images is to highlight the edges in the image."
   ]
  },
  {
   "cell_type": "code",
   "execution_count": null,
   "id": "63f1c306",
   "metadata": {},
   "outputs": [],
   "source": [
    "#Example\n",
    "import cv2\n",
    "import numpy as np\n",
    "\n",
    "# Load x-ray image here\n",
    "img = cv2.imread('C:\\\\Users\\\\DABBI SRAVAN KUMAR\\\\X- ray image\\\\1.2.826.0.1.3680043.8.498.10001175380298620851477409998730672515.jpg', 0)\n",
    "\n",
    "# Apply Laplacian filter here\n",
    "img_laplacian = cv2.Laplacian(img, cv2.CV_64F)\n",
    "\n",
    "# Show filtered image here\n",
    "cv2.imshow('Laplacian Filter', img_laplacian)\n",
    "cv2.waitKey(0)\n",
    "cv2.destroyAllWindows()"
   ]
  },
  {
   "cell_type": "markdown",
   "id": "cb774834",
   "metadata": {},
   "source": [
    "5.\tThreshold filter: The threshold filter is a binary filter that is used to separate an image into foreground and background regions. It works by setting all pixels with intensity values above a certain threshold to white and all."
   ]
  },
  {
   "cell_type": "markdown",
   "id": "52c07e41",
   "metadata": {},
   "source": [
    "# 4)Which filter will you prefer for the detect and visualization of catheters and lines in X-ray images and why?"
   ]
  },
  {
   "cell_type": "markdown",
   "id": "df0da756",
   "metadata": {},
   "source": [
    "In the context of detecting and visualizing catheters and lines in X-ray images, I prefer to use a filter that emphasizes edges and suppresses noise. The reason for this is that catheters and lines often appear as thin, elongated structures with high contrast edges in X-ray images. Therefore, an edge detection filter can effectively extract these structures from the background.\n",
    "\n",
    "Among the filters I described earlier, the Sobel filter and the Laplacian filter are the most suitable for this task. The Sobel filter can detect both horizontal and vertical edges, while the Laplacian filter is more sensitive to edges in all directions. However, the Laplacian filter is also more sensitive to noise, which can result in false positives in the edge detection.\n",
    "Therefore, in practice, it may be useful to use a combination of both filters, or to use a modified version of the Laplacian filter that is less sensitive to noise. Another approach is to use machine learning-based methods, such as convolutional neural networks, that can learn to detect catheters and lines directly from X-ray images. These methods can potentially achieve higher accuracy and robustness than traditional filters.\n"
   ]
  },
  {
   "cell_type": "markdown",
   "id": "c6892642",
   "metadata": {},
   "source": [
    "# 5)How can deep learning help to detect presence of catheters and lines in images and which model you prefer?( coding is not required)?"
   ]
  },
  {
   "attachments": {},
   "cell_type": "markdown",
   "id": "8a51342e",
   "metadata": {},
   "source": [
    "Deep learning can help to detect the presence of catheters and lines in X-ray images by training neural network to learn the features that distinguish these structures from the background. There are various approaches to designing a neural network for this task, but common approach is to use  convolutional neural network (CNN) that can learn to detect local features in an image.\n",
    "A typical CNN architecture for this task may include several convolutional layers, followed by one or more fully connected layers, and final output layer that predicts the presence or absence of catheters and lines. The convolutional layers learn to extract local features, such as edges and corners, from the input image, while the fully connected layers learn to combine these features and make a final decision.\n",
    "One popular model for object detection in images is the Faster R-CNN (Region-based Convolutional Neural Network) model. This model uses a region proposal network (RPN) to generate candidate regions in image that may contain the object of interest (in this case, catheters and lines). The RPN is trained to predict the probability of each region containing the object of interest, as well as the bounding box that encloses the object.\n",
    "Once the candidate regions are generated, a separate CNN is used to extract features from each region, which are then fed into a final classifier that predicts the presence or absence of the object of interest. This approach has been shown to be highly effective in detecting objects in images, including medical images such as X-rays.\n",
    "Other models that can be used for this task include the YOLO (You Only Look Once) model, the SSD (Single Shot Detector) model, and the RetinaNet model. The choice of model depends on the specific requirements of the application, such as the size and complexity of the dataset, the speed and accuracy requirements, and the availability of computational resources.\n"
   ]
  }
 ],
 "metadata": {
  "kernelspec": {
   "display_name": "Python 3 (ipykernel)",
   "language": "python",
   "name": "python3"
  },
  "language_info": {
   "codemirror_mode": {
    "name": "ipython",
    "version": 3
   },
   "file_extension": ".py",
   "mimetype": "text/x-python",
   "name": "python",
   "nbconvert_exporter": "python",
   "pygments_lexer": "ipython3",
   "version": "3.10.7"
  }
 },
 "nbformat": 4,
 "nbformat_minor": 5
}
